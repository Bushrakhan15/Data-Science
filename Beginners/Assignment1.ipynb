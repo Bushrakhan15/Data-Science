{
 "cells": [
  {
   "cell_type": "markdown",
   "id": "ed0c715e",
   "metadata": {},
   "source": [
    "**1000**"
   ]
  },
  {
   "cell_type": "code",
   "execution_count": null,
   "id": "8644ee92",
   "metadata": {},
   "outputs": [],
   "source": [
    "print(\"Hello World!\")"
   ]
  },
  {
   "cell_type": "markdown",
   "id": "9785b8aa",
   "metadata": {},
   "source": [
    "**1001**"
   ]
  },
  {
   "cell_type": "code",
   "execution_count": null,
   "id": "cd83b6e0",
   "metadata": {},
   "outputs": [],
   "source": [
    "a = int(input())\n",
    "b = int(input())\n",
    "X = a+b\n",
    "print(\"X = %i\"%X)\n",
    "\n",
    "\n"
   ]
  },
  {
   "cell_type": "markdown",
   "id": "0f0d01ab",
   "metadata": {},
   "source": [
    "**1002**"
   ]
  },
  {
   "cell_type": "code",
   "execution_count": null,
   "id": "411f462d",
   "metadata": {},
   "outputs": [],
   "source": [
    "import math\n",
    "π = 3.14159\n",
    "n = float(input())\n",
    "A= π*(math.pow(n,2))\n",
    "print(\"A=%0.4f\"%A)\n"
   ]
  },
  {
   "cell_type": "markdown",
   "id": "24a8bb52",
   "metadata": {},
   "source": [
    "**1003**"
   ]
  },
  {
   "cell_type": "code",
   "execution_count": null,
   "id": "964ac338",
   "metadata": {},
   "outputs": [],
   "source": [
    "a = int(input())\n",
    "b = int(input())\n",
    "X = a+b\n",
    "print(\"SOMA = %i\"%X)"
   ]
  },
  {
   "cell_type": "markdown",
   "id": "2733b62d",
   "metadata": {},
   "source": [
    "**1004**"
   ]
  },
  {
   "cell_type": "code",
   "execution_count": null,
   "id": "f6a9f555",
   "metadata": {},
   "outputs": [],
   "source": [
    "a = int(input())\n",
    "b = int(input())\n",
    "X = a*b\n",
    "print(\"PROD = %i\"%X)"
   ]
  },
  {
   "cell_type": "markdown",
   "id": "b46a463a",
   "metadata": {},
   "source": [
    "**1005**"
   ]
  },
  {
   "cell_type": "code",
   "execution_count": null,
   "id": "f93f361f",
   "metadata": {},
   "outputs": [],
   "source": [
    "a = float(input())\n",
    "b = float(input())\n",
    "X = float(((a*3.5)+(b*7.5))/(3.5+7.5))\n",
    "print(\"MEDIA = %.5f\"%X)"
   ]
  },
  {
   "cell_type": "markdown",
   "id": "9bcdda56",
   "metadata": {},
   "source": [
    "**1006**"
   ]
  },
  {
   "cell_type": "code",
   "execution_count": null,
   "id": "e3346ef0",
   "metadata": {},
   "outputs": [],
   "source": [
    "a = float(input())\n",
    "b = float(input())\n",
    "c = float(input())\n",
    "X = float(((a*2)+(b*3)+(c*5))/(2+3+5))\n",
    "print(\"MEDIA = %.1f\"%X)"
   ]
  },
  {
   "cell_type": "markdown",
   "id": "133695b9",
   "metadata": {},
   "source": [
    "**1007**"
   ]
  },
  {
   "cell_type": "code",
   "execution_count": null,
   "id": "a8e786e4",
   "metadata": {},
   "outputs": [],
   "source": [
    "a = int(input())\n",
    "b = int(input())\n",
    "c = int(input())\n",
    "d = int(input())\n",
    "X=(a*b)-(c*d)\n",
    "print(\"DIFERENCA = %i\"%X)"
   ]
  },
  {
   "cell_type": "markdown",
   "id": "e3642903",
   "metadata": {},
   "source": [
    "**1008**"
   ]
  },
  {
   "cell_type": "code",
   "execution_count": null,
   "id": "fd3cd4fc",
   "metadata": {},
   "outputs": [],
   "source": [
    "a=int(input())\n",
    "b=int(input())\n",
    "c=float(input())\n",
    "x=float(b*c)\n",
    "print(\"NUMBER = %i\"%a)\n",
    "print(\"SALARY = U$ %.2f\"%x)"
   ]
  },
  {
   "cell_type": "markdown",
   "id": "5a0d116f",
   "metadata": {},
   "source": [
    "**1009**"
   ]
  },
  {
   "cell_type": "code",
   "execution_count": null,
   "id": "a62355b2",
   "metadata": {},
   "outputs": [],
   "source": [
    "a=str(input())\n",
    "b=float(input())\n",
    "c=float(input())\n",
    "x=float(b+(c*0.15))\n",
    "print(\"TOTAL = R$ %.2f\"%x)"
   ]
  },
  {
   "cell_type": "markdown",
   "id": "6fcdae4c",
   "metadata": {},
   "source": [
    "**1010**"
   ]
  },
  {
   "cell_type": "code",
   "execution_count": null,
   "id": "9be1496b",
   "metadata": {},
   "outputs": [],
   "source": [
    "a=int(input())\n",
    "b=int(input())\n",
    "c=float(input())\n",
    "d=int(input())\n",
    "e=int(input())\n",
    "f=float(input())\n",
    "x=float((b*c)+(e*f))\n",
    "print(\"VALOR A PAGAR: R$ %0.2f\"%x)\n",
    "    "
   ]
  },
  {
   "cell_type": "markdown",
   "id": "299fd43c",
   "metadata": {},
   "source": [
    "**1011**"
   ]
  },
  {
   "cell_type": "code",
   "execution_count": null,
   "id": "bb0c02ad",
   "metadata": {},
   "outputs": [],
   "source": [
    "import math\n",
    "π = 3.14159\n",
    "n = int(input())\n",
    "A= (4/3)*π*(math.pow(n,3))\n",
    "print(\"VOLUME = %0.3f\"%A)"
   ]
  },
  {
   "cell_type": "markdown",
   "id": "29a164db",
   "metadata": {},
   "source": [
    "**1012**"
   ]
  },
  {
   "cell_type": "code",
   "execution_count": null,
   "id": "88759322",
   "metadata": {},
   "outputs": [],
   "source": [
    "import math\n",
    "π = 3.14159\n",
    "a=float(input())\n",
    "b=float(input())\n",
    "c=float(input())\n",
    "t=(1/2)*a*c\n",
    "rc=π*(math.pow(c,2))\n",
    "trp=(1/2)*(a+b)*c\n",
    "sq=b*b\n",
    "ract=a*b\n",
    "print(\"TRIANGULO: %.3f\"%t)\n",
    "print(\"CIRCULO: %.3f\"%rc)\n",
    "print(\"TRAPEZIO: %.3f\"%trp)\n",
    "print(\"QUADRADO: %.3f\"%sq)\n",
    "print(\"RETANGULO: %.3f\"%ract)"
   ]
  },
  {
   "cell_type": "markdown",
   "id": "264879ac",
   "metadata": {},
   "source": [
    "**1013**"
   ]
  },
  {
   "cell_type": "code",
   "execution_count": 5,
   "id": "7330930a",
   "metadata": {},
   "outputs": [
    {
     "ename": "SyntaxError",
     "evalue": "invalid syntax (Temp/ipykernel_1376/2579293123.py, line 6)",
     "output_type": "error",
     "traceback": [
      "\u001b[1;36m  File \u001b[1;32m\"C:\\Users\\Asus\\AppData\\Local\\Temp/ipykernel_1376/2579293123.py\"\u001b[1;36m, line \u001b[1;32m6\u001b[0m\n\u001b[1;33m    x=int((int(m)+int(c)+abs(int(m)-int(c)))/2)\u001b[0m\n\u001b[1;37m    ^\u001b[0m\n\u001b[1;31mSyntaxError\u001b[0m\u001b[1;31m:\u001b[0m invalid syntax\n"
     ]
    }
   ],
   "source": [
    "import math\n",
    "a=input()\n",
    "b=input()\n",
    "c=input()\n",
    "m=int((int(a)+int(b)+abs(int(a)-int(b))/2)\n",
    "x=int((int(m)+int(c)+abs(int(m)-int(c)))/2)\n",
    "print(\"%i eh o maior\"%x)"
   ]
  },
  {
   "cell_type": "markdown",
   "id": "904fda56",
   "metadata": {},
   "source": [
    "**1014**"
   ]
  },
  {
   "cell_type": "code",
   "execution_count": null,
   "id": "1690b3e6",
   "metadata": {},
   "outputs": [],
   "source": [
    "a=int(input())\n",
    "b=float(input())\n",
    "x=a/b\n",
    "print(\"%.3f km/l\"%x)"
   ]
  },
  {
   "cell_type": "markdown",
   "id": "5d93a0f4",
   "metadata": {},
   "source": [
    "**1015**"
   ]
  },
  {
   "cell_type": "code",
   "execution_count": 12,
   "id": "e8c6072c",
   "metadata": {},
   "outputs": [
    {
     "name": "stdout",
     "output_type": "stream",
     "text": [
      "1.0 7.0\n",
      "5.0 9.0\n",
      "4.472\n"
     ]
    }
   ],
   "source": [
    "import math\n",
    "x1,y1=list(map(float,input().split()))\n",
    "x2,y2=list(map(float,input().split()))\n",
    "x=math.sqrt(pow((x2-x1),2)+pow((y2-y1),2))\n",
    "print(\"%.3f\"%x)"
   ]
  },
  {
   "cell_type": "markdown",
   "id": "2109a05a",
   "metadata": {},
   "source": [
    "**1016**"
   ]
  },
  {
   "cell_type": "code",
   "execution_count": 13,
   "id": "5a6ae3b3",
   "metadata": {},
   "outputs": [
    {
     "name": "stdout",
     "output_type": "stream",
     "text": [
      "30\n",
      "60 minutos\n"
     ]
    }
   ],
   "source": [
    "a=int(input())\n",
    "x=a*2\n",
    "print(\"%i minutos\"%x)"
   ]
  },
  {
   "cell_type": "markdown",
   "id": "2e73b411",
   "metadata": {},
   "source": [
    "**1017**"
   ]
  },
  {
   "cell_type": "code",
   "execution_count": 14,
   "id": "7d096cea",
   "metadata": {},
   "outputs": [
    {
     "name": "stdout",
     "output_type": "stream",
     "text": [
      "10\n",
      "85\n",
      "70.833\n"
     ]
    }
   ],
   "source": [
    "a=int(input())\n",
    "b=int(input())\n",
    "x=(a*b)/12.00\n",
    "print(\"%.3f\"%x)"
   ]
  },
  {
   "cell_type": "markdown",
   "id": "f9c76ed0",
   "metadata": {},
   "source": [
    "**1019**"
   ]
  },
  {
   "cell_type": "code",
   "execution_count": 26,
   "id": "d900941b",
   "metadata": {},
   "outputs": [
    {
     "name": "stdout",
     "output_type": "stream",
     "text": [
      "556\n",
      "0:9:16\n"
     ]
    }
   ],
   "source": [
    "s=int(input())\n",
    "m=int(s/60)\n",
    "s=s-m*60\n",
    "h=int(m/60)\n",
    "m=m-h*60\n",
    "print(f'{h}:{m}:{s}')"
   ]
  },
  {
   "cell_type": "markdown",
   "id": "eafc678c",
   "metadata": {},
   "source": [
    "**1020**"
   ]
  },
  {
   "cell_type": "code",
   "execution_count": 27,
   "id": "ed1a47bd",
   "metadata": {},
   "outputs": [
    {
     "name": "stdout",
     "output_type": "stream",
     "text": [
      "400\n",
      "1 ano(s)\n",
      "1 mes(es)\n",
      "5 dia(s)\n"
     ]
    }
   ],
   "source": [
    "d=int(input())\n",
    "y=int(d/365)\n",
    "m=int((d% 365)/30)\n",
    "d=int((d%365)%30)\n",
    "print(f'{y} ano(s)')\n",
    "print(f'{m} mes(es)')\n",
    "print(f'{d} dia(s)')"
   ]
  },
  {
   "cell_type": "code",
   "execution_count": null,
   "id": "5eff47ec",
   "metadata": {},
   "outputs": [],
   "source": []
  }
 ],
 "metadata": {
  "kernelspec": {
   "display_name": "Python 3 (ipykernel)",
   "language": "python",
   "name": "python3"
  },
  "language_info": {
   "codemirror_mode": {
    "name": "ipython",
    "version": 3
   },
   "file_extension": ".py",
   "mimetype": "text/x-python",
   "name": "python",
   "nbconvert_exporter": "python",
   "pygments_lexer": "ipython3",
   "version": "3.9.7"
  }
 },
 "nbformat": 4,
 "nbformat_minor": 5
}
